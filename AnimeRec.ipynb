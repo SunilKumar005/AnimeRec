{
  "cells": [
    {
      "cell_type": "code",
      "execution_count": null,
      "metadata": {
        "colab": {
          "base_uri": "https://localhost:8080/"
        },
        "id": "EKKxMe6TbecJ",
        "outputId": "aec323b3-6523-4f5b-fb92-f8fac6be65dd"
      },
      "outputs": [
        {
          "output_type": "stream",
          "name": "stdout",
          "text": [
            "Collecting pyngrok\n",
            "  Downloading pyngrok-7.0.5-py3-none-any.whl (21 kB)\n",
            "Requirement already satisfied: PyYAML in /usr/local/lib/python3.10/dist-packages (from pyngrok) (6.0.1)\n",
            "Installing collected packages: pyngrok\n",
            "Successfully installed pyngrok-7.0.5\n"
          ]
        }
      ],
      "source": [
        "!pip install pyngrok"
      ]
    },
    {
      "cell_type": "code",
      "execution_count": null,
      "metadata": {
        "colab": {
          "base_uri": "https://localhost:8080/"
        },
        "id": "3GKkkw_4SyJK",
        "outputId": "280b293c-6a96-4183-91f8-e6cfa35a077a"
      },
      "outputs": [
        {
          "output_type": "stream",
          "name": "stdout",
          "text": [
            "Authtoken saved to configuration file: /root/.config/ngrok/ngrok.yml\n"
          ]
        }
      ],
      "source": [
        "!ngrok authtoken 2b7Ilnk9Ki0v9Rm63sKaZzJrNzl_6rKfcUhpchy3LbtwZqhyH"
      ]
    },
    {
      "cell_type": "code",
      "execution_count": null,
      "metadata": {
        "id": "5BjH8uZJg9ml"
      },
      "outputs": [],
      "source": [
        "from pyngrok import ngrok\n",
        "ngrok.kill()"
      ]
    },
    {
      "cell_type": "code",
      "execution_count": null,
      "metadata": {
        "id": "bKWB7c2TqCZt"
      },
      "outputs": [],
      "source": [
        "from flask import Flask, request, jsonify\n",
        "from flask import render_template, send_from_directory\n",
        "import pandas as pd\n",
        "from sklearn.feature_extraction.text import TfidfVectorizer\n",
        "from sklearn.neighbors import NearestNeighbors\n",
        "import joblib\n",
        "from threading import Thread"
      ]
    },
    {
      "cell_type": "code",
      "execution_count": null,
      "metadata": {
        "id": "-SEYt21wrFHn"
      },
      "outputs": [],
      "source": [
        "\n",
        "df = pd.read_csv('/content/drive/MyDrive/animes.csv')"
      ]
    },
    {
      "cell_type": "code",
      "execution_count": null,
      "metadata": {
        "id": "9cTPgaFtldmL"
      },
      "outputs": [],
      "source": [
        "df = df.drop_duplicates(['uid', 'title'], keep='first')"
      ]
    },
    {
      "cell_type": "code",
      "execution_count": null,
      "metadata": {
        "id": "ophLA-LzoJER"
      },
      "outputs": [],
      "source": []
    },
    {
      "cell_type": "code",
      "execution_count": null,
      "metadata": {
        "colab": {
          "base_uri": "https://localhost:8080/"
        },
        "id": "4YJAmhmS8Mnl",
        "outputId": "39a51d4c-5579-407e-87a9-b6eef9442bd4"
      },
      "outputs": [
        {
          "output_type": "stream",
          "name": "stdout",
          "text": [
            "Mounted at /content/drive\n"
          ]
        }
      ],
      "source": [
        "from google.colab import drive\n",
        "drive.mount('/content/drive')"
      ]
    },
    {
      "cell_type": "code",
      "execution_count": null,
      "metadata": {
        "colab": {
          "base_uri": "https://localhost:8080/",
          "height": 75
        },
        "id": "kuE3RCylqInx",
        "outputId": "f42c5946-a35f-4b27-ca73-271290c7f2a3"
      },
      "outputs": [
        {
          "output_type": "execute_result",
          "data": {
            "text/plain": [
              "NearestNeighbors(algorithm='brute', metric='cosine', n_jobs=-1, n_neighbors=10)"
            ],
            "text/html": [
              "<style>#sk-container-id-1 {color: black;background-color: white;}#sk-container-id-1 pre{padding: 0;}#sk-container-id-1 div.sk-toggleable {background-color: white;}#sk-container-id-1 label.sk-toggleable__label {cursor: pointer;display: block;width: 100%;margin-bottom: 0;padding: 0.3em;box-sizing: border-box;text-align: center;}#sk-container-id-1 label.sk-toggleable__label-arrow:before {content: \"▸\";float: left;margin-right: 0.25em;color: #696969;}#sk-container-id-1 label.sk-toggleable__label-arrow:hover:before {color: black;}#sk-container-id-1 div.sk-estimator:hover label.sk-toggleable__label-arrow:before {color: black;}#sk-container-id-1 div.sk-toggleable__content {max-height: 0;max-width: 0;overflow: hidden;text-align: left;background-color: #f0f8ff;}#sk-container-id-1 div.sk-toggleable__content pre {margin: 0.2em;color: black;border-radius: 0.25em;background-color: #f0f8ff;}#sk-container-id-1 input.sk-toggleable__control:checked~div.sk-toggleable__content {max-height: 200px;max-width: 100%;overflow: auto;}#sk-container-id-1 input.sk-toggleable__control:checked~label.sk-toggleable__label-arrow:before {content: \"▾\";}#sk-container-id-1 div.sk-estimator input.sk-toggleable__control:checked~label.sk-toggleable__label {background-color: #d4ebff;}#sk-container-id-1 div.sk-label input.sk-toggleable__control:checked~label.sk-toggleable__label {background-color: #d4ebff;}#sk-container-id-1 input.sk-hidden--visually {border: 0;clip: rect(1px 1px 1px 1px);clip: rect(1px, 1px, 1px, 1px);height: 1px;margin: -1px;overflow: hidden;padding: 0;position: absolute;width: 1px;}#sk-container-id-1 div.sk-estimator {font-family: monospace;background-color: #f0f8ff;border: 1px dotted black;border-radius: 0.25em;box-sizing: border-box;margin-bottom: 0.5em;}#sk-container-id-1 div.sk-estimator:hover {background-color: #d4ebff;}#sk-container-id-1 div.sk-parallel-item::after {content: \"\";width: 100%;border-bottom: 1px solid gray;flex-grow: 1;}#sk-container-id-1 div.sk-label:hover label.sk-toggleable__label {background-color: #d4ebff;}#sk-container-id-1 div.sk-serial::before {content: \"\";position: absolute;border-left: 1px solid gray;box-sizing: border-box;top: 0;bottom: 0;left: 50%;z-index: 0;}#sk-container-id-1 div.sk-serial {display: flex;flex-direction: column;align-items: center;background-color: white;padding-right: 0.2em;padding-left: 0.2em;position: relative;}#sk-container-id-1 div.sk-item {position: relative;z-index: 1;}#sk-container-id-1 div.sk-parallel {display: flex;align-items: stretch;justify-content: center;background-color: white;position: relative;}#sk-container-id-1 div.sk-item::before, #sk-container-id-1 div.sk-parallel-item::before {content: \"\";position: absolute;border-left: 1px solid gray;box-sizing: border-box;top: 0;bottom: 0;left: 50%;z-index: -1;}#sk-container-id-1 div.sk-parallel-item {display: flex;flex-direction: column;z-index: 1;position: relative;background-color: white;}#sk-container-id-1 div.sk-parallel-item:first-child::after {align-self: flex-end;width: 50%;}#sk-container-id-1 div.sk-parallel-item:last-child::after {align-self: flex-start;width: 50%;}#sk-container-id-1 div.sk-parallel-item:only-child::after {width: 0;}#sk-container-id-1 div.sk-dashed-wrapped {border: 1px dashed gray;margin: 0 0.4em 0.5em 0.4em;box-sizing: border-box;padding-bottom: 0.4em;background-color: white;}#sk-container-id-1 div.sk-label label {font-family: monospace;font-weight: bold;display: inline-block;line-height: 1.2em;}#sk-container-id-1 div.sk-label-container {text-align: center;}#sk-container-id-1 div.sk-container {/* jupyter's `normalize.less` sets `[hidden] { display: none; }` but bootstrap.min.css set `[hidden] { display: none !important; }` so we also need the `!important` here to be able to override the default hidden behavior on the sphinx rendered scikit-learn.org. See: https://github.com/scikit-learn/scikit-learn/issues/21755 */display: inline-block !important;position: relative;}#sk-container-id-1 div.sk-text-repr-fallback {display: none;}</style><div id=\"sk-container-id-1\" class=\"sk-top-container\"><div class=\"sk-text-repr-fallback\"><pre>NearestNeighbors(algorithm=&#x27;brute&#x27;, metric=&#x27;cosine&#x27;, n_jobs=-1, n_neighbors=10)</pre><b>In a Jupyter environment, please rerun this cell to show the HTML representation or trust the notebook. <br />On GitHub, the HTML representation is unable to render, please try loading this page with nbviewer.org.</b></div><div class=\"sk-container\" hidden><div class=\"sk-item\"><div class=\"sk-estimator sk-toggleable\"><input class=\"sk-toggleable__control sk-hidden--visually\" id=\"sk-estimator-id-1\" type=\"checkbox\" checked><label for=\"sk-estimator-id-1\" class=\"sk-toggleable__label sk-toggleable__label-arrow\">NearestNeighbors</label><div class=\"sk-toggleable__content\"><pre>NearestNeighbors(algorithm=&#x27;brute&#x27;, metric=&#x27;cosine&#x27;, n_jobs=-1, n_neighbors=10)</pre></div></div></div></div></div>"
            ]
          },
          "metadata": {},
          "execution_count": 5
        }
      ],
      "source": [
        "tfidf_vectorizer = joblib.load('/content/drive/MyDrive/Colab Notebooks/tfidf_vectorizer.pkl')\n",
        "tfidf_matrix = joblib.load('/content/drive/MyDrive/Colab Notebooks/tfidf_matrix.pkl')\n",
        "knn_model = joblib.load('/content/drive/MyDrive/Colab Notebooks/knn_model.pkl')\n",
        "knn_model.fit(tfidf_matrix)"
      ]
    },
    {
      "cell_type": "code",
      "execution_count": null,
      "metadata": {
        "id": "UaO6PIaNp6Q2"
      },
      "outputs": [],
      "source": [
        "def get_hybrid_recommendations(user_id, anime_title, top_n=10):\n",
        "    anime_index = df[df['title'] == anime_title].index\n",
        "    if len(anime_index) == 0:\n",
        "        return [], []\n",
        "\n",
        "    collaborative_filtering_indices = get_collaborative_filtering_recommendations(anime_index)\n",
        "\n",
        "    collaborative_filtering_indices = collaborative_filtering_indices[1:]\n",
        "\n",
        "    collaborative_filtering_recommendations = df.iloc[collaborative_filtering_indices]['title'].tolist()\n",
        "\n",
        "    return collaborative_filtering_recommendations[:top_n]\n",
        "\n",
        "def get_collaborative_filtering_recommendations(anime_index):\n",
        "    distances, indices = knn_model.kneighbors(tfidf_matrix[anime_index], n_neighbors=10)\n",
        "    return indices.flatten()"
      ]
    },
    {
      "cell_type": "code",
      "execution_count": null,
      "metadata": {
        "colab": {
          "base_uri": "https://localhost:8080/"
        },
        "id": "i-CFxnNTq-Ew",
        "outputId": "699593d8-dbd4-411e-82fe-6fbada61a2eb"
      },
      "outputs": [
        {
          "output_type": "stream",
          "name": "stdout",
          "text": [
            "Collaborative Filtering Recommendations: ['Oz no Mahoutsukai (1986)', 'OZ', 'Oz no Mahoutsukai', 'Made in Abyss', 'Oz no Mahoutsukai no Koutsuu Anzen no Tabi', 'Space Oz no Bouken', 'Code Geass: Soubou no Oz Picture Drama', 'Summer Wars', 'Zhandou Wang Zhi Jufeng Zhan Hun']\n"
          ]
        }
      ],
      "source": [
        "user_id = 5530\n",
        "anime_title = 'Pandora Hearts'\n",
        "collaborative_filtering_recs = get_hybrid_recommendations(user_id, anime_title)\n",
        "print(\"Collaborative Filtering Recommendations:\", collaborative_filtering_recs)"
      ]
    },
    {
      "cell_type": "code",
      "execution_count": null,
      "metadata": {
        "id": "EfilqJruec0S"
      },
      "outputs": [],
      "source": [
        "def convert_to_python_types(dataframe):\n",
        "    for column in dataframe.select_dtypes(include=['int64']).columns:\n",
        "        dataframe[column] = dataframe[column].astype(int)\n",
        "    return dataframe\n"
      ]
    },
    {
      "cell_type": "code",
      "execution_count": null,
      "metadata": {
        "colab": {
          "base_uri": "https://localhost:8080/"
        },
        "id": "HInzX5EDZHs8",
        "outputId": "6b13c226-a8ee-47fb-9c3d-b26f1a5a27a8"
      },
      "outputs": [
        {
          "output_type": "stream",
          "name": "stdout",
          "text": [
            " * Serving Flask app '__main__'\n",
            " * Debug mode: off\n"
          ]
        },
        {
          "output_type": "stream",
          "name": "stderr",
          "text": [
            "INFO:werkzeug:\u001b[31m\u001b[1mWARNING: This is a development server. Do not use it in a production deployment. Use a production WSGI server instead.\u001b[0m\n",
            " * Running on http://127.0.0.1:5000\n",
            "INFO:werkzeug:\u001b[33mPress CTRL+C to quit\u001b[0m\n"
          ]
        },
        {
          "output_type": "stream",
          "name": "stdout",
          "text": [
            " * Tunnel URL: NgrokTunnel: \"https://3d64-35-245-45-41.ngrok-free.app\" -> \"http://localhost:5000\"\n"
          ]
        },
        {
          "output_type": "stream",
          "name": "stderr",
          "text": [
            "INFO:werkzeug:127.0.0.1 - - [24/Jan/2024 15:18:16] \"GET / HTTP/1.1\" 200 -\n",
            "INFO:werkzeug:127.0.0.1 - - [24/Jan/2024 15:18:18] \"GET /static/css/index.css HTTP/1.1\" 200 -\n",
            "INFO:werkzeug:127.0.0.1 - - [24/Jan/2024 15:18:18] \"\u001b[33mGET /styles.css HTTP/1.1\u001b[0m\" 404 -\n",
            "INFO:werkzeug:127.0.0.1 - - [24/Jan/2024 15:18:23] \"\u001b[33mGET /favicon.ico HTTP/1.1\u001b[0m\" 404 -\n",
            "INFO:werkzeug:127.0.0.1 - - [24/Jan/2024 15:20:04] \"GET /anime_details?uid=40746&title=Overflow HTTP/1.1\" 200 -\n",
            "INFO:werkzeug:127.0.0.1 - - [24/Jan/2024 15:20:06] \"POST /get_anime_data HTTP/1.1\" 200 -\n"
          ]
        },
        {
          "output_type": "stream",
          "name": "stdout",
          "text": [
            "['Natsu-iro Egao de 1, 2, Jump!', 'Million Doll', 'Love Live! School Idol Project OVA', 'Wonderful Rush', 'Music S.T.A.R.T!!', 'Netorare Zuma', 'Idol Memories', 'Koi-ken!: Watashitachi Anime ni Nacchatta!', 'Zou no Senaka: Tabidatsu Hi']\n"
          ]
        },
        {
          "output_type": "stream",
          "name": "stderr",
          "text": [
            "INFO:werkzeug:127.0.0.1 - - [24/Jan/2024 15:20:08] \"\u001b[33mGET /undefined HTTP/1.1\u001b[0m\" 404 -\n",
            "INFO:werkzeug:127.0.0.1 - - [24/Jan/2024 15:22:40] \"GET / HTTP/1.1\" 200 -\n",
            "INFO:werkzeug:127.0.0.1 - - [24/Jan/2024 15:25:45] \"GET / HTTP/1.1\" 200 -\n",
            "INFO:werkzeug:127.0.0.1 - - [24/Jan/2024 15:25:46] \"\u001b[33mGET /styles.css HTTP/1.1\u001b[0m\" 404 -\n",
            "INFO:werkzeug:127.0.0.1 - - [24/Jan/2024 15:25:46] \"GET /static/css/index.css HTTP/1.1\" 200 -\n",
            "INFO:werkzeug:127.0.0.1 - - [24/Jan/2024 15:25:58] \"\u001b[33mGET /favicon.ico HTTP/1.1\u001b[0m\" 404 -\n",
            "INFO:werkzeug:127.0.0.1 - - [24/Jan/2024 15:26:58] \"GET /anime_details?uid=40746&title=Overflow HTTP/1.1\" 200 -\n",
            "INFO:werkzeug:127.0.0.1 - - [24/Jan/2024 15:26:58] \"POST /get_anime_data HTTP/1.1\" 200 -\n"
          ]
        },
        {
          "output_type": "stream",
          "name": "stdout",
          "text": [
            "['Natsu-iro Egao de 1, 2, Jump!', 'Million Doll', 'Love Live! School Idol Project OVA', 'Wonderful Rush', 'Music S.T.A.R.T!!', 'Netorare Zuma', 'Idol Memories', 'Koi-ken!: Watashitachi Anime ni Nacchatta!', 'Zou no Senaka: Tabidatsu Hi']\n"
          ]
        },
        {
          "output_type": "stream",
          "name": "stderr",
          "text": [
            "INFO:werkzeug:127.0.0.1 - - [24/Jan/2024 15:26:59] \"\u001b[33mGET /undefined HTTP/1.1\u001b[0m\" 404 -\n"
          ]
        }
      ],
      "source": [
        "from pyngrok import ngrok\n",
        "import threading\n",
        "\n",
        "ngrok.kill()\n",
        "def start_ngrok():\n",
        "    ngrok_address = ngrok.connect(5000)\n",
        "    print(' * Tunnel URL:', ngrok_address)\n",
        "\n",
        "threading.Thread(target=start_ngrok).start()\n",
        "\n",
        "app = Flask(__name__)\n",
        "def preprocess_input(anime_title):\n",
        "    return anime_title\n",
        "@app.route('/')\n",
        "def index():\n",
        "    return render_template('index.html', anime_data=df.to_dict(orient='records'))\n",
        "\n",
        "@app.route('/anime_details')\n",
        "def anime_details():\n",
        "    return render_template('anime_details.html')\n",
        "\n",
        "@app.route('/get_anime_data', methods=['POST'])\n",
        "def get_anime_data():\n",
        "    uid = int(request.form.get('user_id'))\n",
        "    title = request.form.get('title')\n",
        "    titles = get_hybrid_recommendations(uid, title)\n",
        "    print(titles)\n",
        "\n",
        "    anime_details = df[df['uid'] == int(uid)].iloc[0]\n",
        "\n",
        "    details = {\n",
        "        'uid': int(anime_details['uid']),\n",
        "        'title': str(anime_details['title']),\n",
        "        'synopsis': str(anime_details['synopsis']),\n",
        "        'genre': str(anime_details['genre']),\n",
        "        'aired': str(anime_details['aired']),\n",
        "        'img_url': str(anime_details['img_url']),\n",
        "        'link': str(anime_details['link']),\n",
        "    }\n",
        "\n",
        "    recommendations = df[df['title'].isin(titles)].copy()\n",
        "    recommendations = convert_to_python_types(recommendations)\n",
        "\n",
        "    recommendations_data = []\n",
        "    for _, row in recommendations.iterrows():\n",
        "        recommendations_data.append({\n",
        "            'uid': int(row['uid']),\n",
        "            'title': str(row['title']),\n",
        "            'img_url': str(row['img_url']),\n",
        "            'link': str(row['link']),\n",
        "        })\n",
        "\n",
        "    return jsonify({'anime_details': details, 'recommendations': recommendations_data})\n",
        "\n",
        "@app.route('/get_anime_details', methods=['POST'])\n",
        "def get_anime_details():\n",
        "    uid = request.form.get('uid')\n",
        "    title = request.form.get('title')\n",
        "    titles = get_hybrid_recommendations(uid, title)\n",
        "    anime_details = df[df['uid'] == int(uid)].iloc[0]\n",
        "\n",
        "    title = anime_details['title']\n",
        "    synopsis = anime_details['synopsis']\n",
        "    genre = anime_details['genre']\n",
        "    aired = anime_details['aired']\n",
        "    episodes = anime_details['episodes']\n",
        "    members = anime_details['members']\n",
        "    popularity = anime_details['popularity']\n",
        "    ranked = anime_details['ranked']\n",
        "    score = anime_details['score']\n",
        "    img_url = anime_details['img_url']\n",
        "    link = anime_details['link']\n",
        "\n",
        "    return render_template('anime_details.html',\n",
        "                           uid=uid,\n",
        "                           title=title,\n",
        "                           synopsis=synopsis,\n",
        "                           genre=genre,\n",
        "                           aired=aired,\n",
        "                           episodes=episodes,\n",
        "                           members=members,\n",
        "                           popularity=popularity,\n",
        "                           ranked=ranked,\n",
        "                           score=score,\n",
        "                           img_url=img_url,\n",
        "                           link=link)\n",
        "\n",
        "\n",
        "@app.route('/get_recommendations', methods=['POST'])\n",
        "def get_recommendations():\n",
        "    try:\n",
        "        user_id = int(request.form['user_id'])\n",
        "        anime_title = request.form['anime_title']\n",
        "\n",
        "        anime_title = preprocess_input(anime_title)\n",
        "\n",
        "        anime_index = df[df['title'] == anime_title].index\n",
        "        print(f\"Anime Title: {anime_title}, Anime Index: {anime_index}\")\n",
        "\n",
        "        if len(anime_index) == 0:\n",
        "            return jsonify({'error': 'Anime not found'}), 404\n",
        "\n",
        "        collaborative_filtering_recs = get_hybrid_recommendations(user_id, anime_title)\n",
        "        return jsonify({'user_id': user_id, 'anime_title': anime_title, 'recommendations': collaborative_filtering_recs})\n",
        "\n",
        "\n",
        "    except Exception as e:\n",
        "        return jsonify({'error': str(e)})\n",
        "\n",
        "if __name__ == \"__main__\":\n",
        "    app.run()"
      ]
    },
    {
      "cell_type": "code",
      "execution_count": null,
      "metadata": {
        "colab": {
          "base_uri": "https://localhost:8080/"
        },
        "id": "X70mUvzYo4wC",
        "outputId": "f5b98356-6ddb-44d8-9e7f-fd6a92b22c58"
      },
      "outputs": [
        {
          "name": "stdout",
          "output_type": "stream",
          "text": [
            "(16216, 43913)\n"
          ]
        }
      ],
      "source": [
        "print(tfidf_matrix.shape)\n"
      ]
    }
  ],
  "metadata": {
    "colab": {
      "provenance": []
    },
    "kernelspec": {
      "display_name": "Python 3",
      "name": "python3"
    },
    "language_info": {
      "name": "python"
    }
  },
  "nbformat": 4,
  "nbformat_minor": 0
}